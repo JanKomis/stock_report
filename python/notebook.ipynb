{
 "cells": [
  {
   "cell_type": "markdown",
   "metadata": {},
   "source": [
    "FETCH HISTORIC DATA FROM YFINANCE"
   ]
  },
  {
   "cell_type": "code",
   "execution_count": null,
   "metadata": {},
   "outputs": [],
   "source": [
    "import pandas as pd\n",
    "import yfinance as yf\n",
    "from datetime import date\n",
    "\n",
    "start_date = \"2020-01-01\"\n",
    "end_date = \"2025-03-15\"\n",
    "\n",
    "\n",
    "df = pd.read_csv(\"../datasets/tickers.csv\")\n",
    "symbols = df[\"symbol\"].tolist()\n",
    "\n",
    "data = pd.DataFrame()\n",
    "\n",
    "for symbol in symbols:\n",
    "    try:\n",
    "        ticker_data = yf.download(symbol, start=start_date, end=end_date, auto_adjust=True)\n",
    "        \n",
    "        ticker_data.columns = ticker_data.columns.get_level_values(0)\n",
    "        ticker_data = ticker_data.reset_index()\n",
    "        ticker_data = ticker_data.rename(columns={\"price\": \"id\"})\n",
    "        ticker_data['symbol'] = symbol\n",
    "        \n",
    "        data = pd.concat([data, ticker_data], ignore_index=True)\n",
    "    except Exception as e:\n",
    "            print(f\"Fetch error {symbol}: {e}\")\n",
    "\n",
    "print(data)"
   ]
  },
  {
   "cell_type": "code",
   "execution_count": null,
   "metadata": {},
   "outputs": [],
   "source": [
    "data.to_csv('../datasets/yahoo_historic_data.csv',index=False)"
   ]
  },
  {
   "cell_type": "markdown",
   "metadata": {},
   "source": [
    "HISTORIC DATASET REVIEW\n",
    "\n",
    "<small>Restart jupyter notebook</small>"
   ]
  },
  {
   "cell_type": "code",
   "execution_count": null,
   "metadata": {},
   "outputs": [],
   "source": [
    "import pandas as pd\n",
    "\n",
    "df = pd.read_csv('../datasets/yahoo_historic_data.csv')\n",
    "df"
   ]
  },
  {
   "cell_type": "code",
   "execution_count": null,
   "metadata": {},
   "outputs": [],
   "source": [
    "#remove stocks that have less than 1000 days of history\n",
    "pocet_radku_alt = df[\"symbol\"].value_counts()\n",
    "\n",
    "symbols_to_keep = pocet_radku_alt[pocet_radku_alt >= 1000].index\n",
    "df = df[df[\"symbol\"].isin(symbols_to_keep)]"
   ]
  },
  {
   "cell_type": "code",
   "execution_count": null,
   "metadata": {},
   "outputs": [],
   "source": [
    "unique_symbols = df[\"symbol\"].nunique()\n",
    "print(\"Počet unikátních symbolů:\", unique_symbols)\n",
    "\n",
    "rows_on_date = df[df[\"Date\"] == \"2025-03-14\"].shape[0]\n",
    "print(\"Počet řádků s datem 2025-03-14:\", rows_on_date)\n",
    "\n",
    "#rows with empty values\n",
    "print(df.isnull().sum())\n"
   ]
  },
  {
   "cell_type": "code",
   "execution_count": null,
   "metadata": {},
   "outputs": [],
   "source": [
    "df.columns = df.columns.str.lower()\n",
    "df"
   ]
  },
  {
   "cell_type": "code",
   "execution_count": null,
   "metadata": {},
   "outputs": [],
   "source": [
    "\n",
    "rearrange_columns = ['date','symbol','open','high','low','close','volume']\n",
    "\n",
    "df = df[rearrange_columns]\n",
    "df.to_csv('../datasets/hist_data.csv', index=False)"
   ]
  },
  {
   "cell_type": "code",
   "execution_count": null,
   "metadata": {},
   "outputs": [],
   "source": [
    "#stocks that have at least 1000 days of history\n",
    "\n",
    "symbols = df['symbol'].unique()\n",
    "\n",
    "df_symbols = pd.DataFrame(symbols, columns=['symbol'])\n",
    "\n",
    "df_symbols.to_csv('../datasets/new_tickers_list.csv', index=False)"
   ]
  },
  {
   "cell_type": "markdown",
   "metadata": {},
   "source": [
    "FETCH COMPANY INFORMATION DATA FROM YFINANCE\n",
    "\n",
    "<small>Restart jupyter notebook</small>\n"
   ]
  },
  {
   "cell_type": "code",
   "execution_count": null,
   "metadata": {},
   "outputs": [],
   "source": [
    "import pandas as pd\n",
    "import yfinance as yf\n",
    "from datetime import date\n",
    "\n",
    "start_date = \"2020-01-01\"\n",
    "end_date = date.today().strftime(\"%Y-%m-%d\")  # ve formátu YYYY-MM-DD\n",
    "\n",
    "# Načtení seznamu tickerů ze souboru CSV\n",
    "df = pd.read_csv(\"../datasets/new_tickers_list.csv\")\n",
    "symbols = df[\"symbol\"].tolist()\n",
    "\n",
    "data = pd.DataFrame()\n",
    "\n",
    "for symbol in symbols:\n",
    "    try:\n",
    "        stock = yf.Ticker(symbol)\n",
    "        info = stock.info\n",
    "\n",
    "        company_data = {\n",
    "                \"symbol\": symbol,\n",
    "                \"short_name\": info.get(\"shortName\"),\n",
    "                \"region\": info.get(\"region\"),\n",
    "                \"exchange\": info.get(\"exchange\"),\n",
    "                \"exchange_timezone\": info.get(\"exchangeTimezoneShortName\"),\n",
    "                \"market_cap\": info.get(\"marketCap\"),\n",
    "                \"beta\": info.get(\"beta\"),\n",
    "        }\n",
    "        new_df = pd.DataFrame([company_data])\n",
    "        \n",
    "        data = pd.concat([data, new_df], ignore_index=True)\n",
    "    except Exception as e:\n",
    "            print(f\"Fetch error {symbol}: {e}\")\n",
    "\n",
    "print(data)"
   ]
  },
  {
   "cell_type": "code",
   "execution_count": null,
   "metadata": {},
   "outputs": [],
   "source": [
    "data.to_csv('../datasets/comp_data.csv',index=False)"
   ]
  },
  {
   "cell_type": "markdown",
   "metadata": {},
   "source": [
    "COMPANY INFO DATASET REVIEW\n",
    "\n",
    "<small>Restart jupyter notebook</small>"
   ]
  },
  {
   "cell_type": "code",
   "execution_count": null,
   "metadata": {},
   "outputs": [],
   "source": [
    "import pandas as pd\n",
    "\n",
    "df = pd.read_csv('../datasets/comp_data.csv')"
   ]
  },
  {
   "cell_type": "code",
   "execution_count": null,
   "metadata": {},
   "outputs": [],
   "source": [
    "df.head()"
   ]
  },
  {
   "cell_type": "code",
   "execution_count": null,
   "metadata": {},
   "outputs": [],
   "source": [
    "print(df.isnull().sum())"
   ]
  },
  {
   "cell_type": "markdown",
   "metadata": {},
   "source": [
    "SEEED DATA INTO DATABASE\n",
    "\n",
    "<small>Restart jupyter notebook</small>"
   ]
  },
  {
   "cell_type": "code",
   "execution_count": null,
   "metadata": {},
   "outputs": [],
   "source": [
    "import os\n",
    "import psycopg2\n",
    "from dotenv import load_dotenv\n",
    "\n",
    "load_dotenv()\n",
    "\n",
    "\n",
    "DB_NAME = os.getenv(\"DB_NAME\")\n",
    "DB_USER = os.getenv(\"DB_USER\")\n",
    "DB_PASSWORD = os.getenv(\"DB_PASSWORD\")\n",
    "DB_HOST = os.getenv(\"DB_HOST\")\n",
    "DB_PORT = os.getenv(\"DB_PORT\")\n",
    "\n",
    "conn = psycopg2.connect(\n",
    "    dbname=DB_NAME,\n",
    "    user=DB_USER,\n",
    "    password=DB_PASSWORD,\n",
    "    host=DB_HOST,\n",
    "    port=DB_PORT\n",
    ")\n",
    "\n",
    "\n",
    "cursor = conn.cursor()\n",
    "\n",
    "print(\"✅ Connect to database!\")\n"
   ]
  },
  {
   "cell_type": "code",
   "execution_count": null,
   "metadata": {},
   "outputs": [],
   "source": [
    "import pandas as pd\n",
    "\n",
    "df_company = pd.read_csv(\"../datasets/comp_data.csv\")\n",
    "df_history = pd.read_csv(\"../datasets/hist_data.csv\")"
   ]
  },
  {
   "cell_type": "code",
   "execution_count": null,
   "metadata": {},
   "outputs": [],
   "source": [
    "import numpy as np\n",
    "\n",
    "sql_companies = \"\"\"\n",
    "    INSERT INTO companies (symbol, short_name, region, exchange, exchange_timezone,\n",
    "                        market_cap, beta )\n",
    "    VALUES (%s, %s, %s, %s, %s, %s, %s)\n",
    "\"\"\"\n",
    "\n",
    "sql_historic_data = \"\"\"\n",
    "    INSERT INTO daily_historic_data (date, symbol, open, high, low, close,\n",
    "                        volume)\n",
    "    VALUES (%s, %s, %s, %s, %s, %s, %s)\n",
    "\"\"\"\n",
    "\n",
    "\n",
    "\n",
    "def prepare_values_for_sql(df):\n",
    "    df = df.astype(object)\n",
    "    \n",
    "    df = df.where(pd.notna(df), None)\n",
    "    \n",
    "    values = [\n",
    "        tuple(x.item() if isinstance(x, (np.integer, np.floating)) else x for x in row)\n",
    "        for row in df.to_records(index=False)\n",
    "    ]\n",
    "    \n",
    "    return values\n",
    "\n",
    "cursor.executemany(sql_companies, prepare_values_for_sql(df_company))\n",
    "cursor.executemany(sql_historic_data, prepare_values_for_sql(df_history))\n",
    "\n",
    "conn.commit()"
   ]
  },
  {
   "cell_type": "code",
   "execution_count": null,
   "metadata": {},
   "outputs": [],
   "source": [
    "cursor.close()\n",
    "conn.close()"
   ]
  }
 ],
 "metadata": {
  "kernelspec": {
   "display_name": "stock_report",
   "language": "python",
   "name": "python3"
  },
  "language_info": {
   "codemirror_mode": {
    "name": "ipython",
    "version": 3
   },
   "file_extension": ".py",
   "mimetype": "text/x-python",
   "name": "python",
   "nbconvert_exporter": "python",
   "pygments_lexer": "ipython3",
   "version": "3.11.9"
  }
 },
 "nbformat": 4,
 "nbformat_minor": 2
}
